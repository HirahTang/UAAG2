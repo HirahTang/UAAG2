{
 "cells": [
  {
   "cell_type": "code",
   "execution_count": 3,
   "id": "10b5092c",
   "metadata": {},
   "outputs": [],
   "source": [
    "import pandas as pd\n",
    "import os\n",
    "data_dictionary = {}\n",
    "data_dictionary[\"ArrayID\"] = [i for i in range(0, 22 * 2)]\n",
    "data_dictionary['id'] = [\n",
    "    \"A0A247D711_LISMN\", \"ARGR_ECOLI\", \"CASP3_HUMAN\", \"CCDB_ECOLI\",\n",
    "    \"DN7A_SACS2\", \"ENVZ_ECOLI\", \"FKBP3_HUMAN\", \"HCP_LAMBD\", \"IF1_ECOLI\",\n",
    "    \"ILF3_HUMAN\", \"MET_HUMAN\", \"OTU7A_HUMAN\", \"PKN1_HUMAN\", \"RS15_GEOSE\",\n",
    "    \"SBI_STAAM\", \"SCIN_STAAR\", \"SOX30_HUMAN\", \"SQSTM_MOUSE\", \"SUMO1_HUMAN\",\n",
    "    \"TAT_HV1BR\", \"VG08_BPP22\", \"VRPI_BPT7\"\n",
    "] * 2\n",
    "data_dictionary['baseline'] = os.listdir(\"/home/qcx679/hantang/UAAG2/data/baselines\")\n",
    "data_dictionary['baseline'] = (data_dictionary['baseline'][:4] + data_dictionary['baseline'][5:]) * 2\n",
    "data_dictionary['split'] = [0] * 22 + [1] * 22"
   ]
  },
  {
   "cell_type": "code",
   "execution_count": 4,
   "id": "e0740e32",
   "metadata": {},
   "outputs": [],
   "source": [
    "# convert data_dictionary to DataFrame\n",
    "df = pd.DataFrame(data_dictionary)\n",
    "df.to_csv(\"/home/qcx679/hantang/UAAG2/slurm_config/slurm_config_proteingym.txt\", sep='\\t', index=False)"
   ]
  },
  {
   "cell_type": "code",
   "execution_count": null,
   "id": "a9464a3b",
   "metadata": {},
   "outputs": [],
   "source": [
    "import pandas as pd\n",
    "import os\n",
    "data_dictionary = {}\n",
    "data_dictionary[\"ArrayID\"] = [i for i in range(0, 22)]\n",
    "data_dictionary['id'] = [\n",
    "    \"A0A247D711_LISMN\", \"ARGR_ECOLI\", \"CASP3_HUMAN\", \"CCDB_ECOLI\",\n",
    "    \"DN7A_SACS2\", \"ENVZ_ECOLI\", \"FKBP3_HUMAN\", \"HCP_LAMBD\", \"IF1_ECOLI\",\n",
    "    \"ILF3_HUMAN\", \"MET_HUMAN\", \"OTU7A_HUMAN\", \"PKN1_HUMAN\", \"RS15_GEOSE\",\n",
    "    \"SBI_STAAM\", \"SCIN_STAAR\", \"SOX30_HUMAN\", \"SQSTM_MOUSE\", \"SUMO1_HUMAN\",\n",
    "    \"TAT_HV1BR\", \"VG08_BPP22\", \"VRPI_BPT7\"\n",
    "]\n",
    "\n",
    "data_dictionary['baseline'] = os.listdir(\"/home/qcx679/hantang/UAAG2/data/baselines\")"
   ]
  }
 ],
 "metadata": {
  "kernelspec": {
   "display_name": "targetdiff",
   "language": "python",
   "name": "python3"
  },
  "language_info": {
   "codemirror_mode": {
    "name": "ipython",
    "version": 3
   },
   "file_extension": ".py",
   "mimetype": "text/x-python",
   "name": "python",
   "nbconvert_exporter": "python",
   "pygments_lexer": "ipython3",
   "version": "3.8.18"
  }
 },
 "nbformat": 4,
 "nbformat_minor": 5
}
